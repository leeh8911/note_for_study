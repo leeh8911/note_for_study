{
  "nbformat": 4,
  "nbformat_minor": 0,
  "metadata": {
    "colab": {
      "name": "question_of_intuition_of_linear_algebra_statistics_and_geometry.ipynb",
      "version": "0.3.2",
      "provenance": [],
      "collapsed_sections": [],
      "include_colab_link": true
    },
    "kernelspec": {
      "name": "python3",
      "display_name": "Python 3"
    }
  },
  "cells": [
    {
      "cell_type": "markdown",
      "metadata": {
        "id": "view-in-github",
        "colab_type": "text"
      },
      "source": [
        "<a href=\"https://colab.research.google.com/github/leeh8911/note_for_study/blob/master/question_of_intuition_of_linear_algebra_statistics_and_geometry.ipynb\" target=\"_parent\"><img src=\"https://colab.research.google.com/assets/colab-badge.svg\" alt=\"Open In Colab\"/></a>"
      ]
    },
    {
      "cell_type": "markdown",
      "metadata": {
        "id": "M62ruWz--zac",
        "colab_type": "text"
      },
      "source": [
        "# 수학하는 의사와의 대담\n",
        "## Motivation\n",
        "수학하는 의사님의 블로그[선형대수, 통계학, 기하적 직관, Dr. J’s Medical Blog](https://jryoungw.github.io/2019/09/08/linalg_stat_geom.html)를 읽다가 아래의 수식에 대한 궁금증으로 시작하게 되었습니다.\n",
        "\n",
        "$$ \n",
        "Cov(Y - E[Y{\\mid}X], f(X)) = 0\n",
        "$$\n",
        "\n",
        "블로그에서 설명하는 이 수식에 대한 의미는 선형대수 및 기하적 직관으로 통계학의 수식$E[Y{\\mid}X]$는 $Y$라는 랜덤변수 공간을 $X$라는 랜덤변수 공간에 정사영을 시킨 것이고, 따라서 $Y - E[Y{\\mid}X]$는 $Y$라는 랜덤변수 공간에서 $X$라는 랜덤변수 공간의 영향을 모두 제거한 것이고 다시 말하면 $X$에 대해 수직한 성분의 $Y$만 남긴 것이다.\n",
        "여기서 생기는 궁금증은 통계적인 수식의 의미는 랜덤변수 $Y$에서 랜덤변수$X$와 관련된 것들을 제거한 것들과 임의의 함수를 통과한 $X$와의 연관성이 없다라고 이해는 되지만, \n",
        "\n",
        "1. 정말 모든 함수 $f(X)$에 대해 가능한지\n",
        "2. 기대값은 어떤 공간에 대한 의미보단, 특정 값이라는 의미를 갖는데, 정말 위 수식이 0이 되는지\n",
        "\n",
        "에 대한 의문이 들었습니다. 따라서 이를 해결하기 위해 직관이 아닌 실제로 유도하였을 때, 어떻게 되는지를 확인하고자 수학적인 유도를 해보았습니다.\n",
        "\n",
        "## 수학적인 유도\n",
        "\n",
        "공분산의 정의에 의해 위의 공분산 수식은 다음과 같이 풀어 쓸 수 있습니다.\n",
        "\n",
        "$$\n",
        "\\begin{align}\n",
        "Cov(Y - E[Y{\\mid}X], f(X)) & = E[(Y-E[Y{\\mid}X] - E[Y-E[Y{\\mid}X]])*(f(X) - E[f(X)])] & (1)\\\\\n",
        "&= E[(Y-E[Y]-E[Y{\\mid}X]+E[E[Y{\\mid}X]])*(f(X)-E[f(X)])] & (2)\\\\\n",
        "&= E[(Y-E[Y]-E[Y{\\mid}X]+E[Y])*(f(X)-E[f(X)])] & (3)\\\\\n",
        "&= E[(Y-E[Y{\\mid}X])*(f(X)-E[f(X)])] & (4)\\\\\n",
        "&= E[Yf(X) - YE[f(X)] - E[Y{\\mid}X]f(X)+E[Y{\\mid}X]E[f(X)]] & (5) \\\\\n",
        "&= E[Yf(X)] - E[YE[f(X)]] - E[E[Y{\\mid}X]f(X)]+E[E[Y{\\mid}X]E[f(X)]] & (6) \\\\\n",
        "\\end{align}\n",
        "$$\n",
        "\n",
        "식(1)은 공분산 함수를 정의에 따라 기대값 함수로 바꾸어주었다. 식(2)는 내부에 있는 기대값의 선형성을 이용하여 $E[Y - E[Y{\\mid}X]] = E[Y] - E[Y{\\mid}X]$로 나누어 계산하였다. 식(3)은 [law of total expectation](https://en.wikipedia.org/wiki/Law_of_total_expectation)에 따라 $E[E[Y{\\mid}X]] = E[Y]$로 계산하였고, 식(4)는 식(3)을 마저 정리한 식이다. 식(5)~식(6)은 기대값 내부의 식을 마저 정리한 식이다.\n",
        "\n",
        "위의 식(6)을 마저 정리하기 위해서는 $E[Yf(X)] - E[YE[f(X)]] = 0$과 $-E[E[Y{\\mid}X]f(X)]+E[E[Y{\\mid}X]E[f(X)]]=0$임을 마저 정리하면 원하는 결과에 도달 할 것이다. 이 식을 단순화 하여 아래처럼 정리 할 수 있다.\n",
        "$$\n",
        "\\begin{align}\n",
        "E[XE[Y]] &= E[X{\\Sigma}_y[yP(Y=y)]] = {\\Sigma}_x(x{\\Sigma}_y(yP(Y=y,X=x))) \\\\\n",
        "&={\\Sigma}_x{\\Sigma}_y(xyP(X=x,Y=y))\\\\\n",
        "&=E[XY]\n",
        "\\end{align}\n",
        "$$\n",
        "\n",
        "즉, $E[YE[f(X)]] = E[Yf(X)]$로 쓸 수 있고, $E[E[Y{\\mid}X]E[f(X)]] = E[E[Y{\\mid}X]f(X)]$로 쓸 수 있다. 따라서 최종적으로 $ Cov(Y - E[Y{\\mid}X], f(X)) = 0$이다.\n",
        "\n",
        "\n",
        "## 수치적 확인\n",
        "\n",
        "(추후 수정)"
      ]
    },
    {
      "cell_type": "code",
      "metadata": {
        "id": "bnOCijoinnBs",
        "colab_type": "code",
        "colab": {}
      },
      "source": [
        "\n",
        "\n",
        "import numpy as np\n",
        "import matplotlib.pyplot as plt\n",
        "# import scipy.stats as stats\n",
        "\n"
      ],
      "execution_count": 0,
      "outputs": []
    },
    {
      "cell_type": "code",
      "metadata": {
        "id": "e7cn7EpsnsFF",
        "colab_type": "code",
        "outputId": "598da10b-20d8-4eb1-8aca-09490f9cdd70",
        "colab": {
          "base_uri": "https://localhost:8080/",
          "height": 313
        }
      },
      "source": [
        "# random number generation\n",
        "sample_num = 100000\n",
        "\n",
        "var_x = 100\n",
        "mean_x = 3\n",
        "x = np.sqrt(var_x)*np.random.randn(sample_num,1) + mean_x\n",
        "y = np.random.randn(sample_num,1)\n",
        "\n",
        "plt.subplot(1,3,1)\n",
        "plt.title(\"histogram of x\")\n",
        "plt.hist(x,30)\n",
        "plt.subplot(1,3,2)\n",
        "plt.title(\"histogram of y\")\n",
        "plt.hist(y,30)\n",
        "plt.subplot(1,3,3)\n",
        "plt.title(\"x-y scatter plot\")\n",
        "plt.plot(x, y,'.')\n",
        "plt.xlabel(\"x\")\n",
        "plt.ylabel(\"y\")\n"
      ],
      "execution_count": 0,
      "outputs": [
        {
          "output_type": "execute_result",
          "data": {
            "text/plain": [
              "Text(0, 0.5, 'y')"
            ]
          },
          "metadata": {
            "tags": []
          },
          "execution_count": 124
        },
        {
          "output_type": "display_data",
          "data": {
            "image/png": "[encoded data removed]",
            "text/plain": [
              "<Figure size 432x288 with 3 Axes>"
            ]
          },
          "metadata": {
            "tags": []
          }
        }
      ]
    },
    {
      "cell_type": "code",
      "metadata": {
        "id": "2E_o5CbLoUQI",
        "colab_type": "code",
        "colab": {}
      },
      "source": [
        "def f(x):\n",
        "    return x**2\n",
        "\n",
        "# conditional expectation of E[X|Y]\n",
        "def conditional_expectation(x, y, lb = -1000):\n",
        "    sum_y = 0\n",
        "    count = 0\n",
        "    \n",
        "    for i in range(x.size):\n",
        "        if x[i] >= lb:\n",
        "            sum_y += y[i]\n",
        "            count += 1\n",
        "            \n",
        "            \n",
        "    if (count != 0):\n",
        "        return sum_y/(count)\n",
        "    else:\n",
        "        return 0"
      ],
      "execution_count": 0,
      "outputs": []
    },
    {
      "cell_type": "code",
      "metadata": {
        "id": "BRLz8A5fsHkS",
        "colab_type": "code",
        "outputId": "83cbd4fd-193b-4a7c-a7b4-39828181be52",
        "colab": {
          "base_uri": "https://localhost:8080/",
          "height": 35
        }
      },
      "source": [
        "# check conditional expectation\n",
        "cond_mean_y_calc = conditional_expectation(y, x) # init lb is -1000 means no effect condition\n",
        "mean_y_np = np.mean(y)\n",
        "\n",
        "print(\"calc_mean : \" + str(cond_mean_y_calc) + \", numpy mean : \" + str(mean_y_np))\n"
      ],
      "execution_count": 0,
      "outputs": [
        {
          "output_type": "stream",
          "text": [
            "calc_mean : [3.01075022], numpy mean : -0.0017655311045528257\n"
          ],
          "name": "stdout"
        }
      ]
    },
    {
      "cell_type": "code",
      "metadata": {
        "id": "bGu_YScPthFb",
        "colab_type": "code",
        "colab": {}
      },
      "source": [
        "# calc covariance cov(Y - E[Y|X], f(X))\n",
        "def test_cov(y, x, f, lb = -1000):\n",
        "    \n",
        "    cond_mean = conditional_expectation(y, x, lb)\n",
        "    sum_val = 0\n",
        "    count = 0\n",
        "    for i in range(sample_num):\n",
        "        left_val = y[i] - cond_mean\n",
        "        right_val = f(x[i])\n",
        "\n",
        "        sum_val += left_val * right_val\n",
        "        count += 1\n",
        "        \n",
        "    return sum_val/count"
      ],
      "execution_count": 0,
      "outputs": []
    },
    {
      "cell_type": "code",
      "metadata": {
        "id": "rngY_7FOudA2",
        "colab_type": "code",
        "colab": {}
      },
      "source": [
        "iter_num = 1000\n",
        "\n",
        "LB = np.linspace(mean_x - 3 * np.sqrt(var_x), mean_x + 3 * np.sqrt(var_x), iter_num)\n",
        "VAL = np.zeros(iter_num)\n",
        "\n",
        "for i in range(iter_num):\n",
        "    VAL[i] = conditional_expectation(y, x, LB[i])\n",
        "    \n"
      ],
      "execution_count": 0,
      "outputs": []
    },
    {
      "cell_type": "code",
      "metadata": {
        "id": "1OYnFIjlvNQ0",
        "colab_type": "code",
        "outputId": "44808a79-e3e6-4333-975d-b2c393dfbaa0",
        "colab": {
          "base_uri": "https://localhost:8080/",
          "height": 287
        }
      },
      "source": [
        "plt.plot(LB, VAL)"
      ],
      "execution_count": 0,
      "outputs": [
        {
          "output_type": "execute_result",
          "data": {
            "text/plain": [
              "[<matplotlib.lines.Line2D at 0x7f763a3a3ef0>]"
            ]
          },
          "metadata": {
            "tags": []
          },
          "execution_count": 123
        },
        {
          "output_type": "display_data",
          "data": {
            "image/png": "[encoded data removed]",
            "text/plain": [
              "<Figure size 432x288 with 1 Axes>"
            ]
          },
          "metadata": {
            "tags": []
          }
        }
      ]
    }
  ]
}